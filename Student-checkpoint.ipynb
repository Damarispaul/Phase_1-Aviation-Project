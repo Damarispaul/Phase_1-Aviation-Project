{
 "cells": [
  {
   "cell_type": "markdown",
   "id": "4cca3cd6-344d-4708-876a-2ca2421c0913",
   "metadata": {},
   "source": [
    "# Phase 1 Project"
   ]
  },
  {
   "cell_type": "markdown",
   "id": "94bf7862-d769-4b30-8af0-60aab84b240d",
   "metadata": {},
   "source": [
    "# Project Overview\n",
    "\n",
    "The main goal of this project is to conduct a comprehensive analysis of historical aviation incident data, with the purpose of identifying aircraft models that pose lower risk. This analysis will also provide detailed, actionable insights into the underlying factors that contribute to aviation incidents, such as technical failures, human errors, or environmental conditions. By thoroughly understanding these contributing factors, the company will be better equipped to make informed decisions on which aircraft to acquire. Additionally, these insights will help in developing targeted strategies and safety protocols to proactively minimize operational risks and enhance overall aviation safety in future once they acquirethe aircraft"
   ]
  },
  {
   "cell_type": "markdown",
   "id": "15db7087-f828-4764-9035-9f5d6370054b",
   "metadata": {},
   "source": [
    "# Business Understanding\n",
    "\n",
    "\n",
    "Our company wants to expand into the aviation sector by buying and operating aircraft for commercial and private use. However, we lack knowledge about the risks involved with aircraft. The task is to identify the types of aircraft that carry the least risk. Then,  present the findings in a clear way to help the head of the new aviation division decide which aircraft to purchase."
   ]
  },
  {
   "cell_type": "markdown",
   "id": "cae1b9c1-0c4a-49e1-a414-e758601237ef",
   "metadata": {},
   "source": [
    "# Data Understanding and Analysis"
   ]
  },
  {
   "cell_type": "markdown",
   "id": "de6c534c-3c49-42f7-beed-7b8a2f5a281d",
   "metadata": {},
   "source": [
    "Data The dataset we are using for this project is drawn from kaggle.com gotteen from National Transportation Safety Board. The aviation accident database provides information on civil aviation accidents and select incidents dating back to 1962 to 2023 encompassing the United States, its territories, and international waters."
   ]
  },
  {
   "cell_type": "markdown",
   "id": "9249abb0-f7ed-4057-9f1a-ac38c150ba8a",
   "metadata": {},
   "source": [
    "# Importing the relevant libraries"
   ]
  },
  {
   "cell_type": "code",
   "execution_count": 1,
   "id": "06190fd3-c116-4709-99c4-5b84cf7c11d3",
   "metadata": {},
   "outputs": [],
   "source": [
    "import pandas as pd\n",
    "import numpy as np \n",
    "import seaborn as sns\n",
    "import matplotlib.pyplot as plt    \n",
    "%matplotlib inline"
   ]
  },
  {
   "cell_type": "markdown",
   "id": "a1c16734-c8aa-4933-b342-6a86f331176f",
   "metadata": {},
   "source": [
    "# Loading the Data"
   ]
  },
  {
   "cell_type": "code",
   "execution_count": 2,
   "id": "8d87cc62-abd2-4d6b-aca9-3f2f86de78f3",
   "metadata": {},
   "outputs": [],
   "source": [
    "# loading the data\n",
    "AviationData = pd.read_csv(r\"C:\\Users\\Damaris\\Desktop\\AviationData.csv\", encoding='latin1',low_memory=False)\n",
    "aviation_data = AviationData"
   ]
  },
  {
   "cell_type": "code",
   "execution_count": 3,
   "id": "58dd0311-0f1d-4af8-9381-36ff072de73d",
   "metadata": {},
   "outputs": [
    {
     "data": {
      "text/html": [
       "<div>\n",
       "<style scoped>\n",
       "    .dataframe tbody tr th:only-of-type {\n",
       "        vertical-align: middle;\n",
       "    }\n",
       "\n",
       "    .dataframe tbody tr th {\n",
       "        vertical-align: top;\n",
       "    }\n",
       "\n",
       "    .dataframe thead th {\n",
       "        text-align: right;\n",
       "    }\n",
       "</style>\n",
       "<table border=\"1\" class=\"dataframe\">\n",
       "  <thead>\n",
       "    <tr style=\"text-align: right;\">\n",
       "      <th></th>\n",
       "      <th>Event.Id</th>\n",
       "      <th>Investigation.Type</th>\n",
       "      <th>Accident.Number</th>\n",
       "      <th>Event.Date</th>\n",
       "      <th>Location</th>\n",
       "      <th>Country</th>\n",
       "      <th>Latitude</th>\n",
       "      <th>Longitude</th>\n",
       "      <th>Airport.Code</th>\n",
       "      <th>Airport.Name</th>\n",
       "      <th>Injury.Severity</th>\n",
       "      <th>Aircraft.damage</th>\n",
       "      <th>Aircraft.Category</th>\n",
       "      <th>Registration.Number</th>\n",
       "      <th>Make</th>\n",
       "      <th>Model</th>\n",
       "      <th>Amateur.Built</th>\n",
       "      <th>Number.of.Engines</th>\n",
       "      <th>Engine.Type</th>\n",
       "      <th>FAR.Description</th>\n",
       "      <th>Schedule</th>\n",
       "      <th>Purpose.of.flight</th>\n",
       "      <th>Air.carrier</th>\n",
       "      <th>Total.Fatal.Injuries</th>\n",
       "      <th>Total.Serious.Injuries</th>\n",
       "      <th>Total.Minor.Injuries</th>\n",
       "      <th>Total.Uninjured</th>\n",
       "      <th>Weather.Condition</th>\n",
       "      <th>Broad.phase.of.flight</th>\n",
       "      <th>Report.Status</th>\n",
       "      <th>Publication.Date</th>\n",
       "    </tr>\n",
       "  </thead>\n",
       "  <tbody>\n",
       "    <tr>\n",
       "      <th>0</th>\n",
       "      <td>20001218X45444</td>\n",
       "      <td>Accident</td>\n",
       "      <td>SEA87LA080</td>\n",
       "      <td>10/24/1948</td>\n",
       "      <td>MOOSE CREEK, ID</td>\n",
       "      <td>United States</td>\n",
       "      <td>NaN</td>\n",
       "      <td>NaN</td>\n",
       "      <td>NaN</td>\n",
       "      <td>NaN</td>\n",
       "      <td>Fatal(2)</td>\n",
       "      <td>Destroyed</td>\n",
       "      <td>NaN</td>\n",
       "      <td>NC6404</td>\n",
       "      <td>Stinson</td>\n",
       "      <td>108-3</td>\n",
       "      <td>No</td>\n",
       "      <td>1.0</td>\n",
       "      <td>Reciprocating</td>\n",
       "      <td>NaN</td>\n",
       "      <td>NaN</td>\n",
       "      <td>Personal</td>\n",
       "      <td>NaN</td>\n",
       "      <td>2.0</td>\n",
       "      <td>0.0</td>\n",
       "      <td>0.0</td>\n",
       "      <td>0.0</td>\n",
       "      <td>UNK</td>\n",
       "      <td>Cruise</td>\n",
       "      <td>Probable Cause</td>\n",
       "      <td>NaN</td>\n",
       "    </tr>\n",
       "    <tr>\n",
       "      <th>1</th>\n",
       "      <td>20001218X45447</td>\n",
       "      <td>Accident</td>\n",
       "      <td>LAX94LA336</td>\n",
       "      <td>7/19/1962</td>\n",
       "      <td>BRIDGEPORT, CA</td>\n",
       "      <td>United States</td>\n",
       "      <td>NaN</td>\n",
       "      <td>NaN</td>\n",
       "      <td>NaN</td>\n",
       "      <td>NaN</td>\n",
       "      <td>Fatal(4)</td>\n",
       "      <td>Destroyed</td>\n",
       "      <td>NaN</td>\n",
       "      <td>N5069P</td>\n",
       "      <td>Piper</td>\n",
       "      <td>PA24-180</td>\n",
       "      <td>No</td>\n",
       "      <td>1.0</td>\n",
       "      <td>Reciprocating</td>\n",
       "      <td>NaN</td>\n",
       "      <td>NaN</td>\n",
       "      <td>Personal</td>\n",
       "      <td>NaN</td>\n",
       "      <td>4.0</td>\n",
       "      <td>0.0</td>\n",
       "      <td>0.0</td>\n",
       "      <td>0.0</td>\n",
       "      <td>UNK</td>\n",
       "      <td>Unknown</td>\n",
       "      <td>Probable Cause</td>\n",
       "      <td>19-09-1996</td>\n",
       "    </tr>\n",
       "    <tr>\n",
       "      <th>2</th>\n",
       "      <td>20061025X01555</td>\n",
       "      <td>Accident</td>\n",
       "      <td>NYC07LA005</td>\n",
       "      <td>8/30/1974</td>\n",
       "      <td>Saltville, VA</td>\n",
       "      <td>United States</td>\n",
       "      <td>36.922223</td>\n",
       "      <td>-81.878056</td>\n",
       "      <td>NaN</td>\n",
       "      <td>NaN</td>\n",
       "      <td>Fatal(3)</td>\n",
       "      <td>Destroyed</td>\n",
       "      <td>NaN</td>\n",
       "      <td>N5142R</td>\n",
       "      <td>Cessna</td>\n",
       "      <td>172M</td>\n",
       "      <td>No</td>\n",
       "      <td>1.0</td>\n",
       "      <td>Reciprocating</td>\n",
       "      <td>NaN</td>\n",
       "      <td>NaN</td>\n",
       "      <td>Personal</td>\n",
       "      <td>NaN</td>\n",
       "      <td>3.0</td>\n",
       "      <td>NaN</td>\n",
       "      <td>NaN</td>\n",
       "      <td>NaN</td>\n",
       "      <td>IMC</td>\n",
       "      <td>Cruise</td>\n",
       "      <td>Probable Cause</td>\n",
       "      <td>26-02-2007</td>\n",
       "    </tr>\n",
       "    <tr>\n",
       "      <th>3</th>\n",
       "      <td>20001218X45448</td>\n",
       "      <td>Accident</td>\n",
       "      <td>LAX96LA321</td>\n",
       "      <td>6/19/1977</td>\n",
       "      <td>EUREKA, CA</td>\n",
       "      <td>United States</td>\n",
       "      <td>NaN</td>\n",
       "      <td>NaN</td>\n",
       "      <td>NaN</td>\n",
       "      <td>NaN</td>\n",
       "      <td>Fatal(2)</td>\n",
       "      <td>Destroyed</td>\n",
       "      <td>NaN</td>\n",
       "      <td>N1168J</td>\n",
       "      <td>Rockwell</td>\n",
       "      <td>112</td>\n",
       "      <td>No</td>\n",
       "      <td>1.0</td>\n",
       "      <td>Reciprocating</td>\n",
       "      <td>NaN</td>\n",
       "      <td>NaN</td>\n",
       "      <td>Personal</td>\n",
       "      <td>NaN</td>\n",
       "      <td>2.0</td>\n",
       "      <td>0.0</td>\n",
       "      <td>0.0</td>\n",
       "      <td>0.0</td>\n",
       "      <td>IMC</td>\n",
       "      <td>Cruise</td>\n",
       "      <td>Probable Cause</td>\n",
       "      <td>12/9/2000</td>\n",
       "    </tr>\n",
       "    <tr>\n",
       "      <th>4</th>\n",
       "      <td>20041105X01764</td>\n",
       "      <td>Accident</td>\n",
       "      <td>CHI79FA064</td>\n",
       "      <td>8/2/1979</td>\n",
       "      <td>Canton, OH</td>\n",
       "      <td>United States</td>\n",
       "      <td>NaN</td>\n",
       "      <td>NaN</td>\n",
       "      <td>NaN</td>\n",
       "      <td>NaN</td>\n",
       "      <td>Fatal(1)</td>\n",
       "      <td>Destroyed</td>\n",
       "      <td>NaN</td>\n",
       "      <td>N15NY</td>\n",
       "      <td>Cessna</td>\n",
       "      <td>501</td>\n",
       "      <td>No</td>\n",
       "      <td>NaN</td>\n",
       "      <td>NaN</td>\n",
       "      <td>NaN</td>\n",
       "      <td>NaN</td>\n",
       "      <td>Personal</td>\n",
       "      <td>NaN</td>\n",
       "      <td>1.0</td>\n",
       "      <td>2.0</td>\n",
       "      <td>NaN</td>\n",
       "      <td>0.0</td>\n",
       "      <td>VMC</td>\n",
       "      <td>Approach</td>\n",
       "      <td>Probable Cause</td>\n",
       "      <td>16-04-1980</td>\n",
       "    </tr>\n",
       "  </tbody>\n",
       "</table>\n",
       "</div>"
      ],
      "text/plain": [
       "         Event.Id Investigation.Type Accident.Number  Event.Date  \\\n",
       "0  20001218X45444           Accident      SEA87LA080  10/24/1948   \n",
       "1  20001218X45447           Accident      LAX94LA336   7/19/1962   \n",
       "2  20061025X01555           Accident      NYC07LA005   8/30/1974   \n",
       "3  20001218X45448           Accident      LAX96LA321   6/19/1977   \n",
       "4  20041105X01764           Accident      CHI79FA064    8/2/1979   \n",
       "\n",
       "          Location        Country   Latitude   Longitude Airport.Code  \\\n",
       "0  MOOSE CREEK, ID  United States        NaN         NaN          NaN   \n",
       "1   BRIDGEPORT, CA  United States        NaN         NaN          NaN   \n",
       "2    Saltville, VA  United States  36.922223  -81.878056          NaN   \n",
       "3       EUREKA, CA  United States        NaN         NaN          NaN   \n",
       "4       Canton, OH  United States        NaN         NaN          NaN   \n",
       "\n",
       "  Airport.Name Injury.Severity Aircraft.damage Aircraft.Category  \\\n",
       "0          NaN        Fatal(2)       Destroyed               NaN   \n",
       "1          NaN        Fatal(4)       Destroyed               NaN   \n",
       "2          NaN        Fatal(3)       Destroyed               NaN   \n",
       "3          NaN        Fatal(2)       Destroyed               NaN   \n",
       "4          NaN        Fatal(1)       Destroyed               NaN   \n",
       "\n",
       "  Registration.Number      Make     Model Amateur.Built  Number.of.Engines  \\\n",
       "0              NC6404   Stinson     108-3            No                1.0   \n",
       "1              N5069P     Piper  PA24-180            No                1.0   \n",
       "2              N5142R    Cessna      172M            No                1.0   \n",
       "3              N1168J  Rockwell       112            No                1.0   \n",
       "4               N15NY    Cessna       501            No                NaN   \n",
       "\n",
       "     Engine.Type FAR.Description Schedule Purpose.of.flight Air.carrier  \\\n",
       "0  Reciprocating             NaN      NaN          Personal         NaN   \n",
       "1  Reciprocating             NaN      NaN          Personal         NaN   \n",
       "2  Reciprocating             NaN      NaN          Personal         NaN   \n",
       "3  Reciprocating             NaN      NaN          Personal         NaN   \n",
       "4            NaN             NaN      NaN          Personal         NaN   \n",
       "\n",
       "   Total.Fatal.Injuries  Total.Serious.Injuries  Total.Minor.Injuries  \\\n",
       "0                   2.0                     0.0                   0.0   \n",
       "1                   4.0                     0.0                   0.0   \n",
       "2                   3.0                     NaN                   NaN   \n",
       "3                   2.0                     0.0                   0.0   \n",
       "4                   1.0                     2.0                   NaN   \n",
       "\n",
       "   Total.Uninjured Weather.Condition Broad.phase.of.flight   Report.Status  \\\n",
       "0              0.0               UNK                Cruise  Probable Cause   \n",
       "1              0.0               UNK               Unknown  Probable Cause   \n",
       "2              NaN               IMC                Cruise  Probable Cause   \n",
       "3              0.0               IMC                Cruise  Probable Cause   \n",
       "4              0.0               VMC              Approach  Probable Cause   \n",
       "\n",
       "  Publication.Date  \n",
       "0              NaN  \n",
       "1       19-09-1996  \n",
       "2       26-02-2007  \n",
       "3        12/9/2000  \n",
       "4       16-04-1980  "
      ]
     },
     "execution_count": 3,
     "metadata": {},
     "output_type": "execute_result"
    }
   ],
   "source": [
    "# Display maximum number of columns\n",
    "pd.set_option(\"display.max_columns\",100)\n",
    "aviation_data.head()        # Display the five rows of the dataset"
   ]
  },
  {
   "cell_type": "code",
   "execution_count": 4,
   "id": "841ba82c-ba33-4d91-959b-6a68b3a18f98",
   "metadata": {},
   "outputs": [
    {
     "name": "stdout",
     "output_type": "stream",
     "text": [
      "This dataset has 88889 rows and 31 columns.\n"
     ]
    }
   ],
   "source": [
    "# Shape of the dataset\n",
    "print(f\"This dataset has {aviation_data.shape[0]} rows and {aviation_data.shape[1]} columns.\")"
   ]
  },
  {
   "cell_type": "code",
   "execution_count": 5,
   "id": "431d249a-9f0e-4d9f-a478-9bd94226a0f3",
   "metadata": {},
   "outputs": [
    {
     "data": {
      "text/html": [
       "<div>\n",
       "<style scoped>\n",
       "    .dataframe tbody tr th:only-of-type {\n",
       "        vertical-align: middle;\n",
       "    }\n",
       "\n",
       "    .dataframe tbody tr th {\n",
       "        vertical-align: top;\n",
       "    }\n",
       "\n",
       "    .dataframe thead th {\n",
       "        text-align: right;\n",
       "    }\n",
       "</style>\n",
       "<table border=\"1\" class=\"dataframe\">\n",
       "  <thead>\n",
       "    <tr style=\"text-align: right;\">\n",
       "      <th></th>\n",
       "      <th>Number.of.Engines</th>\n",
       "      <th>Total.Fatal.Injuries</th>\n",
       "      <th>Total.Serious.Injuries</th>\n",
       "      <th>Total.Minor.Injuries</th>\n",
       "      <th>Total.Uninjured</th>\n",
       "    </tr>\n",
       "  </thead>\n",
       "  <tbody>\n",
       "    <tr>\n",
       "      <th>count</th>\n",
       "      <td>82805.000000</td>\n",
       "      <td>77488.000000</td>\n",
       "      <td>76379.000000</td>\n",
       "      <td>76956.000000</td>\n",
       "      <td>82977.000000</td>\n",
       "    </tr>\n",
       "    <tr>\n",
       "      <th>mean</th>\n",
       "      <td>1.146585</td>\n",
       "      <td>0.647855</td>\n",
       "      <td>0.279881</td>\n",
       "      <td>0.357061</td>\n",
       "      <td>5.325440</td>\n",
       "    </tr>\n",
       "    <tr>\n",
       "      <th>std</th>\n",
       "      <td>0.446510</td>\n",
       "      <td>5.485960</td>\n",
       "      <td>1.544084</td>\n",
       "      <td>2.235625</td>\n",
       "      <td>27.913634</td>\n",
       "    </tr>\n",
       "    <tr>\n",
       "      <th>min</th>\n",
       "      <td>0.000000</td>\n",
       "      <td>0.000000</td>\n",
       "      <td>0.000000</td>\n",
       "      <td>0.000000</td>\n",
       "      <td>0.000000</td>\n",
       "    </tr>\n",
       "    <tr>\n",
       "      <th>25%</th>\n",
       "      <td>1.000000</td>\n",
       "      <td>0.000000</td>\n",
       "      <td>0.000000</td>\n",
       "      <td>0.000000</td>\n",
       "      <td>0.000000</td>\n",
       "    </tr>\n",
       "    <tr>\n",
       "      <th>50%</th>\n",
       "      <td>1.000000</td>\n",
       "      <td>0.000000</td>\n",
       "      <td>0.000000</td>\n",
       "      <td>0.000000</td>\n",
       "      <td>1.000000</td>\n",
       "    </tr>\n",
       "    <tr>\n",
       "      <th>75%</th>\n",
       "      <td>1.000000</td>\n",
       "      <td>0.000000</td>\n",
       "      <td>0.000000</td>\n",
       "      <td>0.000000</td>\n",
       "      <td>2.000000</td>\n",
       "    </tr>\n",
       "    <tr>\n",
       "      <th>max</th>\n",
       "      <td>8.000000</td>\n",
       "      <td>349.000000</td>\n",
       "      <td>161.000000</td>\n",
       "      <td>380.000000</td>\n",
       "      <td>699.000000</td>\n",
       "    </tr>\n",
       "  </tbody>\n",
       "</table>\n",
       "</div>"
      ],
      "text/plain": [
       "       Number.of.Engines  Total.Fatal.Injuries  Total.Serious.Injuries  \\\n",
       "count       82805.000000          77488.000000            76379.000000   \n",
       "mean            1.146585              0.647855                0.279881   \n",
       "std             0.446510              5.485960                1.544084   \n",
       "min             0.000000              0.000000                0.000000   \n",
       "25%             1.000000              0.000000                0.000000   \n",
       "50%             1.000000              0.000000                0.000000   \n",
       "75%             1.000000              0.000000                0.000000   \n",
       "max             8.000000            349.000000              161.000000   \n",
       "\n",
       "       Total.Minor.Injuries  Total.Uninjured  \n",
       "count          76956.000000     82977.000000  \n",
       "mean               0.357061         5.325440  \n",
       "std                2.235625        27.913634  \n",
       "min                0.000000         0.000000  \n",
       "25%                0.000000         0.000000  \n",
       "50%                0.000000         1.000000  \n",
       "75%                0.000000         2.000000  \n",
       "max              380.000000       699.000000  "
      ]
     },
     "execution_count": 5,
     "metadata": {},
     "output_type": "execute_result"
    }
   ],
   "source": [
    "# Statistical summary for numerical dataset\n",
    "aviation_data.describe()"
   ]
  },
  {
   "cell_type": "markdown",
   "id": "bd2f6762-95c2-4d38-8f02-e2149059726a",
   "metadata": {},
   "source": [
    "# Data Cleaning"
   ]
  },
  {
   "cell_type": "code",
   "execution_count": 6,
   "id": "8469049e-c2d9-4ec7-9b56-5a21c4384a57",
   "metadata": {},
   "outputs": [
    {
     "name": "stdout",
     "output_type": "stream",
     "text": [
      "We have 0 duplicates in this dataset\n"
     ]
    }
   ],
   "source": [
    "# check for duplicates\n",
    "print(f\"We have {aviation_data.duplicated().sum()} duplicates in this dataset\")"
   ]
  },
  {
   "cell_type": "markdown",
   "id": "930dc453-023a-467a-97ad-5bbefd8b8bc3",
   "metadata": {},
   "source": [
    "# Checking and Handling Missing Values"
   ]
  },
  {
   "cell_type": "code",
   "execution_count": 7,
   "id": "931a627f-9d8a-4092-b792-6f9d98c09cde",
   "metadata": {},
   "outputs": [
    {
     "data": {
      "text/plain": [
       "Event.Id                      0\n",
       "Investigation.Type            0\n",
       "Accident.Number               0\n",
       "Event.Date                    0\n",
       "Location                     52\n",
       "Country                     226\n",
       "Latitude                  54507\n",
       "Longitude                 54516\n",
       "Airport.Code              38757\n",
       "Airport.Name              36185\n",
       "Injury.Severity            1000\n",
       "Aircraft.damage            3194\n",
       "Aircraft.Category         56602\n",
       "Registration.Number        1382\n",
       "Make                         63\n",
       "Model                        92\n",
       "Amateur.Built               102\n",
       "Number.of.Engines          6084\n",
       "Engine.Type                7096\n",
       "FAR.Description           56866\n",
       "Schedule                  76307\n",
       "Purpose.of.flight          6192\n",
       "Air.carrier               72241\n",
       "Total.Fatal.Injuries      11401\n",
       "Total.Serious.Injuries    12510\n",
       "Total.Minor.Injuries      11933\n",
       "Total.Uninjured            5912\n",
       "Weather.Condition          4492\n",
       "Broad.phase.of.flight     27165\n",
       "Report.Status              6384\n",
       "Publication.Date          13771\n",
       "dtype: int64"
      ]
     },
     "execution_count": 7,
     "metadata": {},
     "output_type": "execute_result"
    }
   ],
   "source": [
    "# Check for missing values\n",
    "\n",
    "aviation_data.isna().sum()"
   ]
  },
  {
   "cell_type": "markdown",
   "id": "5917c049-d3ba-48b8-a1dd-e2a98a6005d7",
   "metadata": {},
   "source": [
    "### Percentage of Null values"
   ]
  },
  {
   "cell_type": "code",
   "execution_count": 8,
   "id": "317f5fba-f2f9-44cc-b49f-eac0cda08242",
   "metadata": {
    "scrolled": true
   },
   "outputs": [
    {
     "data": {
      "text/html": [
       "<div>\n",
       "<style scoped>\n",
       "    .dataframe tbody tr th:only-of-type {\n",
       "        vertical-align: middle;\n",
       "    }\n",
       "\n",
       "    .dataframe tbody tr th {\n",
       "        vertical-align: top;\n",
       "    }\n",
       "\n",
       "    .dataframe thead th {\n",
       "        text-align: right;\n",
       "    }\n",
       "</style>\n",
       "<table border=\"1\" class=\"dataframe\">\n",
       "  <thead>\n",
       "    <tr style=\"text-align: right;\">\n",
       "      <th></th>\n",
       "      <th>Column</th>\n",
       "      <th>Null_Percentage</th>\n",
       "    </tr>\n",
       "  </thead>\n",
       "  <tbody>\n",
       "    <tr>\n",
       "      <th>20</th>\n",
       "      <td>Schedule</td>\n",
       "      <td>85.845268</td>\n",
       "    </tr>\n",
       "    <tr>\n",
       "      <th>22</th>\n",
       "      <td>Air.carrier</td>\n",
       "      <td>81.271023</td>\n",
       "    </tr>\n",
       "    <tr>\n",
       "      <th>19</th>\n",
       "      <td>FAR.Description</td>\n",
       "      <td>63.974170</td>\n",
       "    </tr>\n",
       "    <tr>\n",
       "      <th>12</th>\n",
       "      <td>Aircraft.Category</td>\n",
       "      <td>63.677170</td>\n",
       "    </tr>\n",
       "    <tr>\n",
       "      <th>7</th>\n",
       "      <td>Longitude</td>\n",
       "      <td>61.330423</td>\n",
       "    </tr>\n",
       "    <tr>\n",
       "      <th>6</th>\n",
       "      <td>Latitude</td>\n",
       "      <td>61.320298</td>\n",
       "    </tr>\n",
       "    <tr>\n",
       "      <th>8</th>\n",
       "      <td>Airport.Code</td>\n",
       "      <td>43.601570</td>\n",
       "    </tr>\n",
       "    <tr>\n",
       "      <th>9</th>\n",
       "      <td>Airport.Name</td>\n",
       "      <td>40.708074</td>\n",
       "    </tr>\n",
       "    <tr>\n",
       "      <th>28</th>\n",
       "      <td>Broad.phase.of.flight</td>\n",
       "      <td>30.560587</td>\n",
       "    </tr>\n",
       "    <tr>\n",
       "      <th>30</th>\n",
       "      <td>Publication.Date</td>\n",
       "      <td>15.492356</td>\n",
       "    </tr>\n",
       "    <tr>\n",
       "      <th>24</th>\n",
       "      <td>Total.Serious.Injuries</td>\n",
       "      <td>14.073732</td>\n",
       "    </tr>\n",
       "    <tr>\n",
       "      <th>25</th>\n",
       "      <td>Total.Minor.Injuries</td>\n",
       "      <td>13.424608</td>\n",
       "    </tr>\n",
       "    <tr>\n",
       "      <th>23</th>\n",
       "      <td>Total.Fatal.Injuries</td>\n",
       "      <td>12.826109</td>\n",
       "    </tr>\n",
       "    <tr>\n",
       "      <th>18</th>\n",
       "      <td>Engine.Type</td>\n",
       "      <td>7.982990</td>\n",
       "    </tr>\n",
       "    <tr>\n",
       "      <th>29</th>\n",
       "      <td>Report.Status</td>\n",
       "      <td>7.181991</td>\n",
       "    </tr>\n",
       "    <tr>\n",
       "      <th>21</th>\n",
       "      <td>Purpose.of.flight</td>\n",
       "      <td>6.965991</td>\n",
       "    </tr>\n",
       "    <tr>\n",
       "      <th>17</th>\n",
       "      <td>Number.of.Engines</td>\n",
       "      <td>6.844491</td>\n",
       "    </tr>\n",
       "    <tr>\n",
       "      <th>26</th>\n",
       "      <td>Total.Uninjured</td>\n",
       "      <td>6.650992</td>\n",
       "    </tr>\n",
       "    <tr>\n",
       "      <th>27</th>\n",
       "      <td>Weather.Condition</td>\n",
       "      <td>5.053494</td>\n",
       "    </tr>\n",
       "    <tr>\n",
       "      <th>11</th>\n",
       "      <td>Aircraft.damage</td>\n",
       "      <td>3.593246</td>\n",
       "    </tr>\n",
       "    <tr>\n",
       "      <th>13</th>\n",
       "      <td>Registration.Number</td>\n",
       "      <td>1.554748</td>\n",
       "    </tr>\n",
       "    <tr>\n",
       "      <th>10</th>\n",
       "      <td>Injury.Severity</td>\n",
       "      <td>1.124999</td>\n",
       "    </tr>\n",
       "    <tr>\n",
       "      <th>5</th>\n",
       "      <td>Country</td>\n",
       "      <td>0.254250</td>\n",
       "    </tr>\n",
       "    <tr>\n",
       "      <th>16</th>\n",
       "      <td>Amateur.Built</td>\n",
       "      <td>0.114750</td>\n",
       "    </tr>\n",
       "    <tr>\n",
       "      <th>15</th>\n",
       "      <td>Model</td>\n",
       "      <td>0.103500</td>\n",
       "    </tr>\n",
       "    <tr>\n",
       "      <th>14</th>\n",
       "      <td>Make</td>\n",
       "      <td>0.070875</td>\n",
       "    </tr>\n",
       "    <tr>\n",
       "      <th>4</th>\n",
       "      <td>Location</td>\n",
       "      <td>0.058500</td>\n",
       "    </tr>\n",
       "    <tr>\n",
       "      <th>2</th>\n",
       "      <td>Accident.Number</td>\n",
       "      <td>0.000000</td>\n",
       "    </tr>\n",
       "    <tr>\n",
       "      <th>1</th>\n",
       "      <td>Investigation.Type</td>\n",
       "      <td>0.000000</td>\n",
       "    </tr>\n",
       "    <tr>\n",
       "      <th>0</th>\n",
       "      <td>Event.Id</td>\n",
       "      <td>0.000000</td>\n",
       "    </tr>\n",
       "    <tr>\n",
       "      <th>3</th>\n",
       "      <td>Event.Date</td>\n",
       "      <td>0.000000</td>\n",
       "    </tr>\n",
       "  </tbody>\n",
       "</table>\n",
       "</div>"
      ],
      "text/plain": [
       "                    Column  Null_Percentage\n",
       "20                Schedule        85.845268\n",
       "22             Air.carrier        81.271023\n",
       "19         FAR.Description        63.974170\n",
       "12       Aircraft.Category        63.677170\n",
       "7                Longitude        61.330423\n",
       "6                 Latitude        61.320298\n",
       "8             Airport.Code        43.601570\n",
       "9             Airport.Name        40.708074\n",
       "28   Broad.phase.of.flight        30.560587\n",
       "30        Publication.Date        15.492356\n",
       "24  Total.Serious.Injuries        14.073732\n",
       "25    Total.Minor.Injuries        13.424608\n",
       "23    Total.Fatal.Injuries        12.826109\n",
       "18             Engine.Type         7.982990\n",
       "29           Report.Status         7.181991\n",
       "21       Purpose.of.flight         6.965991\n",
       "17       Number.of.Engines         6.844491\n",
       "26         Total.Uninjured         6.650992\n",
       "27       Weather.Condition         5.053494\n",
       "11         Aircraft.damage         3.593246\n",
       "13     Registration.Number         1.554748\n",
       "10         Injury.Severity         1.124999\n",
       "5                  Country         0.254250\n",
       "16           Amateur.Built         0.114750\n",
       "15                   Model         0.103500\n",
       "14                    Make         0.070875\n",
       "4                 Location         0.058500\n",
       "2          Accident.Number         0.000000\n",
       "1       Investigation.Type         0.000000\n",
       "0                 Event.Id         0.000000\n",
       "3               Event.Date         0.000000"
      ]
     },
     "execution_count": 8,
     "metadata": {},
     "output_type": "execute_result"
    }
   ],
   "source": [
    "# Calculate null percentage\n",
    "null_percentage = [(col, (aviation_data[col].isna().sum() / len (aviation_data)) * 100) for col in aviation_data.columns]\n",
    "# create a Dataframe from the null_percentageabs\n",
    "null_percentages_df = pd.DataFrame(null_percentage, columns = [\"Column\", \"Null_Percentage\"])\n",
    "# Sort in a descending order  \n",
    "null_percentages_df = null_percentages_df.sort_values(by=\"Null_Percentage\", ascending = False)\n",
    "# print the sorted dataframe\n",
    "null_percentages_df"
   ]
  },
  {
   "cell_type": "markdown",
   "id": "398dd4eb-34ba-4e96-bea8-098dccc8aab0",
   "metadata": {},
   "source": [
    "#### Dropping Columns with Null_Percentages above 35%"
   ]
  },
  {
   "cell_type": "code",
   "execution_count": 9,
   "id": "225642af-d439-4c58-9663-8a8e646c0a74",
   "metadata": {},
   "outputs": [
    {
     "name": "stdout",
     "output_type": "stream",
     "text": [
      "Columns dropped: ['Schedule', 'Air.carrier', 'FAR.Description', 'Aircraft.Category', 'Longitude', 'Latitude', 'Airport.Code', 'Airport.Name']\n",
      "Cleaned Dataframe shape: (88889, 23)\n"
     ]
    }
   ],
   "source": [
    "# Filter columns to drop with null percentage of above 35%\n",
    "columns_to_drop = null_percentages_df[null_percentages_df[\"Null_Percentage\"] > 35][\"Column\"]\n",
    "aviation_data_cleaned = aviation_data.drop(columns=columns_to_drop)\n",
    "\n",
    "# Display the cleaned DataFrame and the columns dropped\n",
    "print(\"Columns dropped:\", columns_to_drop.tolist())\n",
    "print(\"Cleaned Dataframe shape:\", aviation_data_cleaned.shape)"
   ]
  },
  {
   "cell_type": "markdown",
   "id": "92814b7a-516d-49ad-9fed-4d0e31fac098",
   "metadata": {},
   "source": [
    "#### Handling the irrelevant columns in my dataset\n"
   ]
  },
  {
   "cell_type": "code",
   "execution_count": 10,
   "id": "76b087d8-b5dc-4329-83f4-855a3000e275",
   "metadata": {},
   "outputs": [
    {
     "data": {
      "text/plain": [
       "(88889, 16)"
      ]
     },
     "execution_count": 10,
     "metadata": {},
     "output_type": "execute_result"
    }
   ],
   "source": [
    "# columns that i feel they will not impact my analysis in any way\n",
    "irrelavant_columns = [\"Event.Id\",\n",
    "                      \"Investigation.Type\", \n",
    "                      \"Accident.Number\", \n",
    "                      \"Publication.Date\",\n",
    "                      \"Report.Status\", \n",
    "                      \"Country\",\n",
    "                      \"Registration.Number\"\n",
    "                    \n",
    "                     ]\n",
    "\n",
    "# Check which columns are present in both lists\n",
    "more_columns_to_drop = [col for col in irrelavant_columns if col in aviation_data_cleaned.columns]\n",
    "\n",
    "# Dropping the irrelevant columns\n",
    "aviation_data_cleaned = aviation_data_cleaned.drop(columns=more_columns_to_drop)\n",
    "aviation_data_cleaned.shape"
   ]
  },
  {
   "cell_type": "code",
   "execution_count": 11,
   "id": "18502e90-fe52-4eb7-a534-979c08a918ec",
   "metadata": {},
   "outputs": [],
   "source": [
    "# Define the columns with fewer null values\n",
    "columns_with_less_null = [\"Location\", \"Make\", \"Model\", \"Amateur.Built\"]\n",
    "\n",
    "# Drop the rows with null values in specified columns\n",
    "aviation_data_cleaned = aviation_data_cleaned.dropna(subset=columns_with_less_null)"
   ]
  },
  {
   "cell_type": "code",
   "execution_count": 12,
   "id": "8a2c1c2c-4505-4ca0-9162-9ee04a676269",
   "metadata": {},
   "outputs": [],
   "source": [
    "# Fill the null with zero (0) in numerical columns\n",
    "columns_to_fill = [\n",
    "    \"Total.Fatal.Injuries\",\n",
    "    \"Total.Serious.Injuries\",\n",
    "    \"Total.Minor.Injuries\",\n",
    "    \"Total.Uninjured\",\n",
    "    \"Injury.Severity\"\n",
    "    \n",
    "]\n",
    "\n",
    "# Using a for loop to fill nulls with 0 \n",
    "for col in columns_to_fill:\n",
    "    aviation_data_cleaned[col] = aviation_data_cleaned[col].fillna(0)"
   ]
  },
  {
   "cell_type": "code",
   "execution_count": 13,
   "id": "5bb39459-002a-4a9f-8fde-358a6119256a",
   "metadata": {},
   "outputs": [],
   "source": [
    "# Filling Nulls with unknown in categorical columns\n",
    "columns_to_fill_2 = [\n",
    "    \"Aircraft.damage\",\n",
    "    \"Number.of.Engines\",\n",
    "    \"Engine.Type\",\n",
    "    \"Purpose.of.flight\",\n",
    "    \"Broad.phase.of.flight\"\n",
    "]\n",
    "\n",
    "for column in columns_to_fill_2:\n",
    "    aviation_data_cleaned[column] = aviation_data_cleaned[column].fillna(\"Unknown\")"
   ]
  },
  {
   "cell_type": "code",
   "execution_count": 17,
   "id": "80d17700-85d2-4999-8e25-27a5f64a218b",
   "metadata": {},
   "outputs": [
    {
     "data": {
      "text/plain": [
       "0        Unknown\n",
       "1        Unknown\n",
       "2            IMC\n",
       "3            IMC\n",
       "4            VMC\n",
       "          ...   \n",
       "88884    Unknown\n",
       "88885    Unknown\n",
       "88886        VMC\n",
       "88887    Unknown\n",
       "88888    Unknown\n",
       "Name: Weather.Condition, Length: 88630, dtype: object"
      ]
     },
     "execution_count": 17,
     "metadata": {},
     "output_type": "execute_result"
    }
   ],
   "source": [
    "# filling the missing values in wether conditions and replacing the UNK, unk with unknown\n",
    "aviation_data_cleaned[\"Weather.Condition\"] = aviation_data_cleaned[\"Weather.Condition\"].fillna(\"Unknown\")\n",
    "aviation_data_cleaned[\"Weather.Condition\"].replace([\"UNK\", \"unknown\", \"Unknown\"], \"Unknown\")"
   ]
  },
  {
   "cell_type": "code",
   "execution_count": 15,
   "id": "a390da9e-6c91-408e-81e2-aa10b3286474",
   "metadata": {},
   "outputs": [
    {
     "data": {
      "text/plain": [
       "Event.Date                0\n",
       "Location                  0\n",
       "Injury.Severity           0\n",
       "Aircraft.damage           0\n",
       "Make                      0\n",
       "Model                     0\n",
       "Amateur.Built             0\n",
       "Number.of.Engines         0\n",
       "Engine.Type               0\n",
       "Purpose.of.flight         0\n",
       "Total.Fatal.Injuries      0\n",
       "Total.Serious.Injuries    0\n",
       "Total.Minor.Injuries      0\n",
       "Total.Uninjured           0\n",
       "Weather.Condition         0\n",
       "Broad.phase.of.flight     0\n",
       "dtype: int64"
      ]
     },
     "execution_count": 15,
     "metadata": {},
     "output_type": "execute_result"
    }
   ],
   "source": [
    "# Check the null \n",
    "aviation_data_cleaned.isna().sum()\n"
   ]
  },
  {
   "cell_type": "markdown",
   "id": "09efe436-f21a-4a62-ac13-f3d0d1f1e010",
   "metadata": {},
   "source": [
    "#### Converting Event.Dates"
   ]
  },
  {
   "cell_type": "code",
   "execution_count": 18,
   "id": "44483e83-3566-4569-aad0-aff4059ff4b9",
   "metadata": {},
   "outputs": [
    {
     "data": {
      "text/plain": [
       "0    10/24/1948\n",
       "1     7/19/1962\n",
       "2     8/30/1974\n",
       "3     6/19/1977\n",
       "4      8/2/1979\n",
       "Name: Event.Date, dtype: object"
      ]
     },
     "execution_count": 18,
     "metadata": {},
     "output_type": "execute_result"
    }
   ],
   "source": [
    "aviation_data_cleaned[\"Event.Date\"].head()"
   ]
  },
  {
   "cell_type": "code",
   "execution_count": 22,
   "id": "a52e9487-4e0e-49dd-8d66-4ecbf3accde1",
   "metadata": {},
   "outputs": [
    {
     "name": "stdout",
     "output_type": "stream",
     "text": [
      "Event.Date has changed from object to 0   1948-10-24\n",
      "1   1962-07-19\n",
      "2   1974-08-30\n",
      "3   1977-06-19\n",
      "4   1979-08-02\n",
      "Name: Event.Date, dtype: datetime64[ns]\n"
     ]
    }
   ],
   "source": [
    "# pd.to_datetime()\n",
    "print(f\"Event.Date has changed from object to {pd.to_datetime(aviation_data_cleaned[\"Event.Date\"]).head()}\")"
   ]
  },
  {
   "cell_type": "code",
   "execution_count": 28,
   "id": "24d30d1e-c6ee-4ba0-ae44-cf2d128683a6",
   "metadata": {},
   "outputs": [
    {
     "name": "stdout",
     "output_type": "stream",
     "text": [
      "0   1948-10-24\n",
      "1   1962-07-19\n",
      "2   1974-08-30\n",
      "Name: Event.Date, dtype: datetime64[ns]\n"
     ]
    }
   ],
   "source": [
    "# Change the whole dataset Event.Date\n",
    "aviation_data_cleaned[\"Event.Date\"] = pd.to_datetime(aviation_data_cleaned[\"Event.Date\"])\n",
    "print(aviation_data_cleaned[\"Event.Date\"].head(3))  \n",
    "\n",
    "# Extract the year from 'Event.Date' to analyze trends over time\n",
    "aviation_data_cleaned[\"Event.Year\"] = aviation_data_cleaned[\"Event.Date\"].dt.year"
   ]
  },
  {
   "cell_type": "code",
   "execution_count": 29,
   "id": "df579dbb-f0d8-4425-b80d-2f04125b659d",
   "metadata": {},
   "outputs": [],
   "source": [
    "# saving my cleaned data to csv\n",
    "aviation_data_cleaned = aviation_data\n",
    "\n",
    "# Save the cleaned DataFrame to a CSV file\n",
    "aviation_data_cleaned.to_csv('Cleaned_data.csv', index=False)"
   ]
  },
  {
   "cell_type": "code",
   "execution_count": null,
   "id": "ee37b636-f79f-4522-b882-c3b2b190b862",
   "metadata": {},
   "outputs": [],
   "source": []
  }
 ],
 "metadata": {
  "kernelspec": {
   "display_name": "Python (learn-env)",
   "language": "python",
   "name": "learn-env"
  },
  "language_info": {
   "codemirror_mode": {
    "name": "ipython",
    "version": 3
   },
   "file_extension": ".py",
   "mimetype": "text/x-python",
   "name": "python",
   "nbconvert_exporter": "python",
   "pygments_lexer": "ipython3",
   "version": "3.12.4"
  }
 },
 "nbformat": 4,
 "nbformat_minor": 5
}
